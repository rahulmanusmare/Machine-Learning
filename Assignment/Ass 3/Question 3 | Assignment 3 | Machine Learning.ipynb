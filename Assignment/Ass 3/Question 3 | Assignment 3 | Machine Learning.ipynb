{
 "cells": [
  {
   "cell_type": "code",
   "execution_count": 1,
   "metadata": {},
   "outputs": [],
   "source": [
    "import pandas as pd\n",
    "import numpy as np\n",
    "import matplotlib.pyplot as plt\n",
    "import pandas as pd\n",
    "from sklearn.model_selection import train_test_split\n",
    "from sklearn.linear_model import LinearRegression\n",
    "from sklearn.metrics import mean_squared_error\n",
    "from sklearn import preprocessing"
   ]
  },
  {
   "cell_type": "markdown",
   "metadata": {},
   "source": [
    "#### (a) "
   ]
  },
  {
   "cell_type": "code",
   "execution_count": 6,
   "metadata": {},
   "outputs": [
    {
     "data": {
      "text/plain": [
       "66.81487736923606"
      ]
     },
     "execution_count": 6,
     "metadata": {},
     "output_type": "execute_result"
    }
   ],
   "source": [
    "data = np.array(pd.read_excel('real.xlsx'))\n",
    "\n",
    "x = data [ : , 1 : -1]\n",
    "y = data [ : , -1]\n",
    "\n",
    "xTrain, xTest, yTrain, yTest = train_test_split (x, y, test_size = 1/2, random_state = 0)\n",
    "\n",
    "lRegressor = LinearRegression()\n",
    "lRegressor.fit (xTrain, yTrain)\n",
    "lRegressor.score (xTest,yTest)\n",
    "prediction = lRegressor.predict (xTest)\n",
    "mean_squared_error (yTest, prediction)"
   ]
  },
  {
   "cell_type": "markdown",
   "metadata": {},
   "source": [
    "#### (b) "
   ]
  },
  {
   "cell_type": "code",
   "execution_count": 7,
   "metadata": {},
   "outputs": [
    {
     "data": {
      "text/plain": [
       "array([ 6.05540896e+00, -2.83005344e-01, -5.42038605e-03,  8.51661356e-01,\n",
       "        2.14767252e+02,  4.18814252e+00])"
      ]
     },
     "execution_count": 7,
     "metadata": {},
     "output_type": "execute_result"
    }
   ],
   "source": [
    "lRegressor.coef_"
   ]
  },
  {
   "cell_type": "markdown",
   "metadata": {},
   "source": [
    "#### (c) "
   ]
  },
  {
   "cell_type": "code",
   "execution_count": 8,
   "metadata": {},
   "outputs": [
    {
     "name": "stdout",
     "output_type": "stream",
     "text": [
      "54.360655181647324\n",
      "[ 9.65985901e+03 -6.10993238e+02 -4.81625933e+01  8.29980619e+01\n",
      "  7.12685584e+05 -3.06717964e+05]\n"
     ]
    }
   ],
   "source": [
    "nx = preprocessing.normalize (x)\n",
    "\n",
    "xTrain, xTest, yTrain, yTest = train_test_split (nx, y, test_size = 1/2, random_state = 0)\n",
    "\n",
    "lRegressor = LinearRegression ()\n",
    "lRegressor.fit (xTrain,yTrain)\n",
    "lRegressor.score (xTest,yTest)\n",
    "prediction = lRegressor.predict (xTest)\n",
    "\n",
    "print (mean_squared_error (yTest, prediction))\n",
    "print (lRegressor.coef_)"
   ]
  },
  {
   "cell_type": "markdown",
   "metadata": {},
   "source": [
    "#### (d) "
   ]
  },
  {
   "cell_type": "code",
   "execution_count": 9,
   "metadata": {},
   "outputs": [
    {
     "data": {
      "image/png": "[encoded data removed]",
      "text/plain": [
       "<Figure size 432x288 with 1 Axes>"
      ]
     },
     "metadata": {
      "needs_background": "light"
     },
     "output_type": "display_data"
    }
   ],
   "source": [
    "lRegressor = LinearRegression()\n",
    "\n",
    "lRegressor.fit (nx,y)\n",
    "prediction = lRegressor.predict(nx)\n",
    "\n",
    "residue = []\n",
    "for i in range (len (prediction)) :\n",
    "    residue.append (prediction [i] - y [i])\n",
    "    \n",
    "px = [i for i in range (len (prediction))]\n",
    "py = residue\n",
    "\n",
    "plt.xlabel('') \n",
    "plt.ylabel('Residuals') \n",
    "\n",
    "plt.scatter(px,py) \n",
    "plt.show() "
   ]
  },
  {
   "cell_type": "code",
   "execution_count": null,
   "metadata": {},
   "outputs": [],
   "source": []
  }
 ],
 "metadata": {
  "kernelspec": {
   "display_name": "Python 3",
   "language": "python",
   "name": "python3"
  },
  "language_info": {
   "codemirror_mode": {
    "name": "ipython",
    "version": 3
   },
   "file_extension": ".py",
   "mimetype": "text/x-python",
   "name": "python",
   "nbconvert_exporter": "python",
   "pygments_lexer": "ipython3",
   "version": "3.7.1"
  }
 },
 "nbformat": 4,
 "nbformat_minor": 2
}
