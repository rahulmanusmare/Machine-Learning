{
 "cells": [
  {
   "cell_type": "markdown",
   "metadata": {},
   "source": [
    "#### (a) Create a contour plot in the θ0 and θ1 space of the residual sum of squares"
   ]
  },
  {
   "cell_type": "code",
   "execution_count": 2,
   "metadata": {},
   "outputs": [
    {
     "name": "stdout",
     "output_type": "stream",
     "text": [
      "0\n",
      "[[2.13333333]]\n",
      "[[8.8]]\n",
      "1\n",
      "[[-2.02666667]]\n",
      "[[-10.80888889]]\n",
      "2\n",
      "[[7.71792593]]\n",
      "[[32.48948148]]\n",
      "3\n",
      "[[-13.35198025]]\n",
      "[[-63.49021235]]\n",
      "4\n",
      "[[33.77855737]]\n",
      "[[148.91442568]]\n"
     ]
    },
    {
     "data": {
      "text/plain": [
       "(matrix([[33.77855737]]), matrix([[148.91442568]]))"
      ]
     },
     "execution_count": 2,
     "metadata": {},
     "output_type": "execute_result"
    }
   ],
   "source": [
    "import numpy as np\n",
    "import matplotlib.pyplot as plt\n",
    "\n",
    "X = np.matrix ('1; 3; 6')\n",
    "y = np.matrix ('6; 10; 16')\n",
    "\n",
    "def gradientDescentRegression (X, y, alpha = 0.1) : \n",
    "    theta0 = 0\n",
    "    theta1 = 0\n",
    "    n = int (len (X))\n",
    "    for it in range (5) :\n",
    "        t0=0.0\n",
    "        t1=0.0\n",
    "        for i in range (n) : \n",
    "            t0 += (y [i] - (theta0 + (theta1 * X [i]))) * (-1)\n",
    "            t1 += (y [i] - (theta0 + (theta1 * X [i]))) * (-X [i])\n",
    "        theta0 = theta0 - alpha * ((2 / n) * t0)\n",
    "        theta1 = theta1 - alpha * ((2 / n) * t1)\n",
    "        print (it)\n",
    "        print (theta0)\n",
    "        print (theta1)\n",
    "    return theta0, theta1\n",
    "\n",
    "gradientDescentRegression (X, y)\n",
    " \n",
    "x1 = np.linspace(-26.0, 30, 100)\n",
    "x2 = np.linspace(-12.0, 16.0, 100)\n",
    "\n",
    "X1, X2 = np.meshgrid(x1, x2)\n",
    "Y = (3*X1*X1 + 46*X2*X2)**0.25\n",
    "cm = plt.cm.get_cmap('viridis')\n",
    "plt.scatter(X1, X2, c=Y, cmap=cm)\n",
    "plt.show()\n",
    "\n",
    "cp = plt.contour(X1, X2, Y)\n",
    "plt.clabel(cp, inline=1, fontsize=10)\n",
    "plt.xlabel('X1')\n",
    "plt.ylabel('X2')\n",
    "plt.show()"
   ]
  },
  {
   "cell_type": "code",
   "execution_count": null,
   "metadata": {},
   "outputs": [],
   "source": []
  }
 ],
 "metadata": {
  "kernelspec": {
   "display_name": "Python 3",
   "language": "python",
   "name": "python3"
  },
  "language_info": {
   "codemirror_mode": {
    "name": "ipython",
    "version": 3
   },
   "file_extension": ".py",
   "mimetype": "text/x-python",
   "name": "python",
   "nbconvert_exporter": "python",
   "pygments_lexer": "ipython3",
   "version": "3.7.1"
  }
 },
 "nbformat": 4,
 "nbformat_minor": 2
}
