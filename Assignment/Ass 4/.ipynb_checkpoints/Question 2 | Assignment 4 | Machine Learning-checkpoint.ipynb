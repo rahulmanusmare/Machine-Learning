{
 "cells": [
  {
   "cell_type": "code",
   "execution_count": 94,
   "metadata": {},
   "outputs": [],
   "source": [
    "import numpy as np\n",
    "import matplotlib.pyplot as plt\n",
    "import pandas as pd\n",
    "from sklearn.model_selection import train_test_split\n",
    "from sklearn.linear_model import LinearRegression\n",
    "\n",
    "import time\n",
    "from sklearn import preprocessing\n",
    "from sklearn.model_selection import KFold\n",
    "from sklearn.linear_model import Lasso\n",
    "from sklearn.model_selection import KFold\n",
    "from sklearn.linear_model import lasso_path\n",
    "from sklearn.linear_model import Ridge\n",
    "from sklearn.utils import shuffle\n",
    "from autograd import grad\n",
    "from sklearn.metrics import mean_squared_error"
   ]
  },
  {
   "cell_type": "markdown",
   "metadata": {},
   "source": [
    "#### (A)"
   ]
  },
  {
   "cell_type": "code",
   "execution_count": 125,
   "metadata": {},
   "outputs": [],
   "source": [
    "def normalEquationRidgeRegression(X,y,Lambda):\n",
    "    X = np.concatenate((np.ones (X.size), X), axis=None)\n",
    "    print (X)\n",
    "    X_T=X.T\n",
    "    k = np.identity(X.T.shape[0], dtype = float)\n",
    "    k[0][0] = 0\n",
    "    XtX=np.matmul(X_T, X) + Lambda * k \n",
    "    inverseXtX =np.linalg.inv(XtX)\n",
    "    temp = np.matmul(inverseXtX,X_T)\n",
    "    theta = np.matmul(temp,y)\n",
    "    return theta"
   ]
  },
  {
   "cell_type": "code",
   "execution_count": 126,
   "metadata": {},
   "outputs": [
    {
     "name": "stdout",
     "output_type": "stream",
     "text": [
      "[1. 1. 1. 1. 1. 1. 1. 1. 1. 1. 1. 2. 1. 3. 1. 4.]\n"
     ]
    },
    {
     "ename": "ValueError",
     "evalue": "matmul: Input operand 1 has a mismatch in its core dimension 0, with gufunc signature (n?,k),(k,m?)->(n?,m?) (size 4 is different from 16)",
     "output_type": "error",
     "traceback": [
      "\u001b[0;31m---------------------------------------------------------------------------\u001b[0m",
      "\u001b[0;31mValueError\u001b[0m                                Traceback (most recent call last)",
      "\u001b[0;32m<ipython-input-126-fe9d4079db06>\u001b[0m in \u001b[0;36m<module>\u001b[0;34m\u001b[0m\n\u001b[1;32m      3\u001b[0m \u001b[0mx\u001b[0m \u001b[0;34m=\u001b[0m \u001b[0mnp\u001b[0m\u001b[0;34m.\u001b[0m\u001b[0marray\u001b[0m\u001b[0;34m(\u001b[0m\u001b[0mx\u001b[0m\u001b[0;34m)\u001b[0m\u001b[0;34m\u001b[0m\u001b[0;34m\u001b[0m\u001b[0m\n\u001b[1;32m      4\u001b[0m \u001b[0my\u001b[0m \u001b[0;34m=\u001b[0m \u001b[0mnp\u001b[0m\u001b[0;34m.\u001b[0m\u001b[0marray\u001b[0m\u001b[0;34m(\u001b[0m\u001b[0my\u001b[0m\u001b[0;34m)\u001b[0m\u001b[0;34m\u001b[0m\u001b[0;34m\u001b[0m\u001b[0m\n\u001b[0;32m----> 5\u001b[0;31m \u001b[0mprint\u001b[0m\u001b[0;34m(\u001b[0m\u001b[0mnormalEquationRidgeRegression\u001b[0m\u001b[0;34m(\u001b[0m\u001b[0mx\u001b[0m\u001b[0;34m,\u001b[0m\u001b[0my\u001b[0m\u001b[0;34m,\u001b[0m\u001b[0;36m2\u001b[0m\u001b[0;34m)\u001b[0m\u001b[0;34m)\u001b[0m\u001b[0;34m\u001b[0m\u001b[0;34m\u001b[0m\u001b[0m\n\u001b[0m",
      "\u001b[0;32m<ipython-input-125-646167f0d636>\u001b[0m in \u001b[0;36mnormalEquationRidgeRegression\u001b[0;34m(X, y, Lambda)\u001b[0m\n\u001b[1;32m     11\u001b[0m     \u001b[0minverseXtX\u001b[0m \u001b[0;34m=\u001b[0m\u001b[0mnp\u001b[0m\u001b[0;34m.\u001b[0m\u001b[0mlinalg\u001b[0m\u001b[0;34m.\u001b[0m\u001b[0minv\u001b[0m\u001b[0;34m(\u001b[0m\u001b[0mXtX\u001b[0m\u001b[0;34m)\u001b[0m\u001b[0;34m\u001b[0m\u001b[0;34m\u001b[0m\u001b[0m\n\u001b[1;32m     12\u001b[0m     \u001b[0mtemp\u001b[0m \u001b[0;34m=\u001b[0m \u001b[0mnp\u001b[0m\u001b[0;34m.\u001b[0m\u001b[0mmatmul\u001b[0m\u001b[0;34m(\u001b[0m\u001b[0minverseXtX\u001b[0m\u001b[0;34m,\u001b[0m\u001b[0mX_T\u001b[0m\u001b[0;34m)\u001b[0m\u001b[0;34m\u001b[0m\u001b[0;34m\u001b[0m\u001b[0m\n\u001b[0;32m---> 13\u001b[0;31m     \u001b[0mtheta\u001b[0m \u001b[0;34m=\u001b[0m \u001b[0mnp\u001b[0m\u001b[0;34m.\u001b[0m\u001b[0mmatmul\u001b[0m\u001b[0;34m(\u001b[0m\u001b[0mtemp\u001b[0m\u001b[0;34m,\u001b[0m\u001b[0my\u001b[0m\u001b[0;34m)\u001b[0m\u001b[0;34m\u001b[0m\u001b[0;34m\u001b[0m\u001b[0m\n\u001b[0m\u001b[1;32m     14\u001b[0m     \u001b[0;32mreturn\u001b[0m \u001b[0mtheta\u001b[0m\u001b[0;34m\u001b[0m\u001b[0;34m\u001b[0m\u001b[0m\n",
      "\u001b[0;31mValueError\u001b[0m: matmul: Input operand 1 has a mismatch in its core dimension 0, with gufunc signature (n?,k),(k,m?)->(n?,m?) (size 4 is different from 16)"
     ]
    }
   ],
   "source": [
    "x = [[1],[2],[3],[4]]\n",
    "y = [[1],[2],[3],[0]]\n",
    "x = np.array(x)\n",
    "y = np.array(y)\n",
    "print(normalEquationRidgeRegression(x,y,2))"
   ]
  },
  {
   "cell_type": "markdown",
   "metadata": {},
   "source": [
    "#### (B)"
   ]
  },
  {
   "cell_type": "code",
   "execution_count": 97,
   "metadata": {},
   "outputs": [],
   "source": [
    "def coordinateDescentRegression(X,y):\n",
    "    N,d = X.shape[0],X.shape[1]\n",
    "    b = np.ones((N,1))\n",
    "    X = np.hstack((b,X))\n",
    "    theta = [0]*(d+1)\n",
    "    for iterations in range(10000):\n",
    "        for i in range(len(theta)):\n",
    "            Xi = X[:,i]\n",
    "            X_without_i = np.delete(X,i,axis = 1)\n",
    "            theta_without_i = np.delete(theta, i, axis =0)\n",
    "            sub = np.dot(X_without_i,theta_without_i)\n",
    "            theta[i] = np.dot(Xi,y-sub)/np.sum(np.square(Xi))\n",
    "    return theta"
   ]
  },
  {
   "cell_type": "code",
   "execution_count": 98,
   "metadata": {},
   "outputs": [
    {
     "name": "stdout",
     "output_type": "stream",
     "text": [
      "[1.9999999999999982, -0.1999999999999994]\n"
     ]
    }
   ],
   "source": [
    "x = [[1],[2],[3],[4]]\n",
    "y = [1,2,3,0]\n",
    "x = np.array(x)\n",
    "y = np.array(y)\n",
    "print(coordinateDescentRegression(x,y))"
   ]
  },
  {
   "cell_type": "markdown",
   "metadata": {},
   "source": [
    "#### (C) "
   ]
  },
  {
   "cell_type": "code",
   "execution_count": 106,
   "metadata": {},
   "outputs": [],
   "source": [
    "def coordinateDescentLasso(x,y,iterations = 1000,delta = 1):\n",
    "    N,d = x.shape[0],x.shape[1]\n",
    "    b = np.ones((N,1))\n",
    "    X = np.hstack((b,x))\n",
    "    theta = [0]*(d+1)\n",
    "    for it in range(iterations):\n",
    "        for j in range(len(theta)):\n",
    "            temp1= 0\n",
    "            zj = 0\n",
    "            temp2 = 0\n",
    "            for i in range(len(y)):\n",
    "                zj +=(X[i][j])**2\n",
    "                temp1+=y[i]*X[i][j]\n",
    "                for k in range(len(theta)):\n",
    "                    if k!=j:\n",
    "                        temp2+=theta[k]*X[i][k]*X[i][j]\n",
    "            rho_j = temp1 - temp2\n",
    "            if(rho_j< - (delta**2)/2):\n",
    "                theta[j] = (rho_j + ((delta**2)/2))/zj\n",
    "            if(rho_j>= - (delta**2)/2 and rho_j <= (delta**2)/2):\n",
    "                theta[j] = 0\n",
    "            if (rho_j>(delta**2)/2):\n",
    "                theta[j] = (rho_j - (delta**2)/2)/zj\n",
    "    return theta\n",
    "\n",
    "            "
   ]
  },
  {
   "cell_type": "code",
   "execution_count": 107,
   "metadata": {},
   "outputs": [
    {
     "name": "stdout",
     "output_type": "stream",
     "text": [
      "[0.37500000000000266, 0, 0.5999999999999995]\n"
     ]
    }
   ],
   "source": [
    "x = np.array([[1,2],[2,4],[3,6],[4,8]])\n",
    "y = np.array([2,3,4,5])\n",
    "print(coordinateDescentLasso(x,y))"
   ]
  },
  {
   "cell_type": "markdown",
   "metadata": {},
   "source": [
    "#### (D) "
   ]
  },
  {
   "cell_type": "code",
   "execution_count": 99,
   "metadata": {},
   "outputs": [],
   "source": [
    "def sgdRegression(X, y, alpha = 0.3):\n",
    "    def costfunc(theta,x):\n",
    "        return np.dot(x,theta)\n",
    "    N,d = X.shape[0],X.shape[1]\n",
    "    b = np.ones((N,1))\n",
    "    X = np.hstack((b, X))\n",
    "    theta = np.zeros(d+1)\n",
    "    \n",
    "    for e in range(10000):\n",
    "        X,y = shuffle(X,y,random_state=0)\n",
    "        for i in range(len(X)):\n",
    "            x_i = X[i,:]\n",
    "            y_i = y[i]\n",
    "            err = costfunc(theta,x_i) - y_i\n",
    "            for j in range(d+1):\n",
    "                theta[j] = theta[j] - 2*alpha*err*x_i[j]\n",
    "            \n",
    "    \n",
    "    return theta\n",
    "            "
   ]
  },
  {
   "cell_type": "code",
   "execution_count": 100,
   "metadata": {},
   "outputs": [
    {
     "name": "stdout",
     "output_type": "stream",
     "text": [
      "[ 2.00960366 -0.20424498]\n"
     ]
    }
   ],
   "source": [
    "x = [[1],[2],[3],[4]]\n",
    "y = [1,2,3,0]\n",
    "x = np.array(x)\n",
    "y = np.array(y)\n",
    "print(sgdRegression(x,y,alpha = 0.001))"
   ]
  },
  {
   "cell_type": "markdown",
   "metadata": {},
   "source": [
    "#### (E) "
   ]
  },
  {
   "cell_type": "code",
   "execution_count": 104,
   "metadata": {},
   "outputs": [],
   "source": [
    "def gradientDescentAutogradLasso(X, y, alpha = 0.1):\n",
    "    def costfunc(theta,x,y):\n",
    "        e = np.dot(X,theta) - y\n",
    "        #penalty = np.sum(np.abs(theta))\n",
    "        return np.dot(e.T, e) + np.sum(np.abs(theta))\n",
    "    N,d = X.shape[0],X.shape[1]\n",
    "    b = np.ones((N,1))\n",
    "    X = np.hstack((b, X))\n",
    "    theta = np.zeros(d+1)\n",
    "\n",
    "    for e in range(1000):\n",
    "        X,y = shuffle(X,y,random_state=0)\n",
    "        for i in range(len(X)):\n",
    "            x_i = X[i,:]\n",
    "            y_i = y[i]\n",
    "            grad_err=grad(costfunc)\n",
    "            delta = grad_err(theta,x_i,y_i)\n",
    "            #theta = theta - alpha * delta / N\n",
    "            for j in range(d+1):\n",
    "                theta[j] = theta[j] - alpha*delta[j]\n",
    "    return theta"
   ]
  },
  {
   "cell_type": "code",
   "execution_count": 105,
   "metadata": {},
   "outputs": [
    {
     "name": "stdout",
     "output_type": "stream",
     "text": [
      "[0.99304677 0.15265913]\n"
     ]
    }
   ],
   "source": [
    "x = [[1],[2],[3],[4]]\n",
    "y = [1,2,3,0]\n",
    "x = np.array(x)\n",
    "y = np.array(y)\n",
    "print(gradientDescentAutogradLasso(x,y,alpha = 0.001))"
   ]
  },
  {
   "cell_type": "code",
   "execution_count": null,
   "metadata": {},
   "outputs": [],
   "source": []
  }
 ],
 "metadata": {
  "kernelspec": {
   "display_name": "Python 3",
   "language": "python",
   "name": "python3"
  },
  "language_info": {
   "codemirror_mode": {
    "name": "ipython",
    "version": 3
   },
   "file_extension": ".py",
   "mimetype": "text/x-python",
   "name": "python",
   "nbconvert_exporter": "python",
   "pygments_lexer": "ipython3",
   "version": "3.7.1"
  }
 },
 "nbformat": 4,
 "nbformat_minor": 2
}
