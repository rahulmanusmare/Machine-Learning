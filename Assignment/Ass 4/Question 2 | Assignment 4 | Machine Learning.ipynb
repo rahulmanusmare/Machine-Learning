{
 "cells": [
  {
   "cell_type": "code",
   "execution_count": 161,
   "metadata": {},
   "outputs": [],
   "source": [
    "import numpy as np\n",
    "from numpy.linalg import inv"
   ]
  },
  {
   "cell_type": "markdown",
   "metadata": {},
   "source": [
    "#### (A)"
   ]
  },
  {
   "cell_type": "code",
   "execution_count": 162,
   "metadata": {},
   "outputs": [],
   "source": [
    "def normalEquationRidgeRegression (X, y, λ):\n",
    "    N,d = X.shape [0],X.shape [1]\n",
    "    b = np.ones ((N, 1))\n",
    "    X = np.hstack ((b, X))\n",
    "    i = np.identity(X.T.shape[0], dtype = float)\n",
    "    i [0][0] = 0\n",
    "    x = np.matmul(X.T, X) + λ * i \n",
    "    ix = inv (x)\n",
    "    temp = np.matmul (ix, X.T)\n",
    "    theta = np.matmul (temp,y)\n",
    "    return theta"
   ]
  },
  {
   "cell_type": "code",
   "execution_count": 163,
   "metadata": {},
   "outputs": [
    {
     "data": {
      "text/plain": [
       "array([[ 1.85714286],\n",
       "       [-0.14285714]])"
      ]
     },
     "execution_count": 163,
     "metadata": {},
     "output_type": "execute_result"
    }
   ],
   "source": [
    "x = np.array ([[1],[2],[3],[4]])\n",
    "y = np.array ([[1],[2],[3],[0]])\n",
    "\n",
    "normalEquationRidgeRegression (x, y, 2)"
   ]
  },
  {
   "cell_type": "markdown",
   "metadata": {},
   "source": [
    "#### (B)"
   ]
  },
  {
   "cell_type": "code",
   "execution_count": 164,
   "metadata": {},
   "outputs": [],
   "source": [
    "def coordinateDescentRegression (X, y):\n",
    "    N,d = X.shape[0],X.shape[1]\n",
    "    b = np.ones((N,1))\n",
    "    X = np.hstack((b,X))\n",
    "    \n",
    "    t = [0] * (d + 1)\n",
    "    for it in range (100):\n",
    "        for i in range (len (t)):\n",
    "            Xi = X [ : , i]\n",
    "            xwi = np.delete (X, i, axis = 1)\n",
    "            twi = np.delete (t, i, axis = 0)\n",
    "            sub = np.dot (xwi, twi)\n",
    "            t [i] = np.dot (Xi, y-sub) / np.sum (np.square (Xi))\n",
    "    return t"
   ]
  },
  {
   "cell_type": "code",
   "execution_count": 165,
   "metadata": {},
   "outputs": [
    {
     "data": {
      "text/plain": [
       "[1.9999999927551957, -0.19999999758506523]"
      ]
     },
     "execution_count": 165,
     "metadata": {},
     "output_type": "execute_result"
    }
   ],
   "source": [
    "x = np.array([[1],[2],[3],[4]])\n",
    "y = np.array([1,2,3,0])\n",
    "\n",
    "coordinateDescentRegression (x, y)"
   ]
  },
  {
   "cell_type": "markdown",
   "metadata": {},
   "source": [
    "#### (C) "
   ]
  },
  {
   "cell_type": "code",
   "execution_count": 166,
   "metadata": {},
   "outputs": [],
   "source": [
    "def coordinateDescentLasso (x, y) :\n",
    "    N,d = x.shape[0],x.shape[1]\n",
    "    b = np.ones((N,1))\n",
    "    X = np.hstack((b,x))\n",
    "    \n",
    "    delta = 1\n",
    "    t = [0] * (d + 1)\n",
    "    for it in range (1000) :\n",
    "        for j in range (len (t)):\n",
    "            t1 = 0\n",
    "            zj = 0\n",
    "            t2 = 0\n",
    "            for i in range (len (y)):\n",
    "                zj += (X [i][j]) ** 2\n",
    "                t1 += y [i] * X [i][j]\n",
    "                for k in range(len(t)):\n",
    "                    if k!=j:\n",
    "                        t2 += t [k] * X[i][k] * X[i][j]\n",
    "            rho_j = t1 - t2\n",
    "            if(rho_j< - (delta ** 2) / 2):\n",
    "                t [j] = (rho_j + ((delta ** 2)/2))/zj\n",
    "            if(rho_j>= - (delta**2)/2 and rho_j <= (delta ** 2) / 2):\n",
    "                t [j] = 0\n",
    "            if (rho_j>(delta ** 2)/2):\n",
    "                t [j] = (rho_j - (delta**2)/2)/zj\n",
    "    return t\n",
    "\n",
    "            "
   ]
  },
  {
   "cell_type": "code",
   "execution_count": 167,
   "metadata": {},
   "outputs": [
    {
     "name": "stdout",
     "output_type": "stream",
     "text": [
      "[0.37500000000000266, 0, 0.5999999999999995]\n"
     ]
    }
   ],
   "source": [
    "x = np.array([[1,2],[2,4],[3,6],[4,8]])\n",
    "y = np.array([2,3,4,5])\n",
    "print(coordinateDescentLasso(x,y))"
   ]
  },
  {
   "cell_type": "markdown",
   "metadata": {},
   "source": [
    "#### (D) "
   ]
  },
  {
   "cell_type": "code",
   "execution_count": 168,
   "metadata": {},
   "outputs": [],
   "source": [
    "def sgdRegression(X, y, alpha = 0.3):\n",
    "    def costfunc(theta,x):\n",
    "        return np.dot(x,theta)\n",
    "    N,d = X.shape[0],X.shape[1]\n",
    "    b = np.ones((N,1))\n",
    "    X = np.hstack((b, X))\n",
    "    theta = np.zeros(d+1)\n",
    "    \n",
    "    for e in range(100):\n",
    "        X,y = shuffle(X,y,random_state=0)\n",
    "        for i in range(len(X)):\n",
    "            x_i = X[i,:]\n",
    "            y_i = y[i]\n",
    "            err = costfunc(theta,x_i) - y_i\n",
    "            for j in range(d+1):\n",
    "                theta[j] = theta[j] - 2*alpha*err*x_i[j]\n",
    "            \n",
    "    \n",
    "    return theta\n",
    "            "
   ]
  },
  {
   "cell_type": "code",
   "execution_count": 169,
   "metadata": {},
   "outputs": [
    {
     "name": "stdout",
     "output_type": "stream",
     "text": [
      "[0.35669326 0.35620022]\n"
     ]
    }
   ],
   "source": [
    "x = [[1],[2],[3],[4]]\n",
    "y = [1,2,3,0]\n",
    "x = np.array(x)\n",
    "y = np.array(y)\n",
    "print(sgdRegression(x,y,alpha = 0.001))"
   ]
  },
  {
   "cell_type": "markdown",
   "metadata": {},
   "source": [
    "#### (E) "
   ]
  },
  {
   "cell_type": "code",
   "execution_count": 170,
   "metadata": {},
   "outputs": [],
   "source": [
    "def gradientDescentAutogradLasso(X, y, alpha = 0.1):\n",
    "    def costfunc(theta,x,y):\n",
    "        e = np.dot(X,theta) - y\n",
    "        return np.dot(e.T, e) + np.sum(np.abs(theta))\n",
    "    N,d = X.shape[0],X.shape[1]\n",
    "    b = np.ones((N,1))\n",
    "    X = np.hstack((b, X))\n",
    "    theta = np.zeros(d+1)\n",
    "\n",
    "    for e in range(1000):\n",
    "        X,y = shuffle(X,y,random_state=0)\n",
    "        for i in range(len(X)):\n",
    "            x_i = X[i,:]\n",
    "            y_i = y[i]\n",
    "            grad_err=grad(costfunc)\n",
    "            delta = grad_err(theta,x_i,y_i)\n",
    "            for j in range(d+1):\n",
    "                theta[j] = theta[j] - alpha*delta[j]\n",
    "    return theta"
   ]
  },
  {
   "cell_type": "code",
   "execution_count": 171,
   "metadata": {},
   "outputs": [
    {
     "name": "stdout",
     "output_type": "stream",
     "text": [
      "[0.99304677 0.15265913]\n"
     ]
    }
   ],
   "source": [
    "x = [[1],[2],[3],[4]]\n",
    "y = [1,2,3,0]\n",
    "x = np.array(x)\n",
    "y = np.array(y)\n",
    "print(gradientDescentAutogradLasso(x,y,alpha = 0.001))"
   ]
  }
 ],
 "metadata": {
  "kernelspec": {
   "display_name": "Python 3",
   "language": "python",
   "name": "python3"
  },
  "language_info": {
   "codemirror_mode": {
    "name": "ipython",
    "version": 3
   },
   "file_extension": ".py",
   "mimetype": "text/x-python",
   "name": "python",
   "nbconvert_exporter": "python",
   "pygments_lexer": "ipython3",
   "version": "3.7.1"
  }
 },
 "nbformat": 4,
 "nbformat_minor": 2
}
