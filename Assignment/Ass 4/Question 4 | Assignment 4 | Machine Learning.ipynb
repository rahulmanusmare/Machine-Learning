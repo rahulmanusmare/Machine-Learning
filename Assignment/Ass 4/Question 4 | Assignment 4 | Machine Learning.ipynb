{
 "cells": [
  {
   "cell_type": "code",
   "execution_count": 3,
   "metadata": {},
   "outputs": [],
   "source": [
    "import numpy as np\n",
    "import matplotlib.pyplot as plt\n",
    "import pandas as pd\n",
    "from sklearn.model_selection import train_test_split\n",
    "from sklearn.linear_model import LinearRegression\n",
    "\n",
    "import time\n",
    "from sklearn import preprocessing\n",
    "from sklearn.model_selection import KFold\n",
    "from sklearn.linear_model import Lasso\n",
    "from sklearn.model_selection import KFold\n",
    "from sklearn.linear_model import lasso_path\n",
    "from sklearn.linear_model import Ridge\n",
    "from sklearn.utils import shuffle\n",
    "from autograd import grad\n",
    "from sklearn.metrics import mean_squared_error"
   ]
  },
  {
   "cell_type": "code",
   "execution_count": 8,
   "metadata": {},
   "outputs": [],
   "source": [
    "def normalEquationRidgeRegression(X,y,λ):\n",
    "    N,d = X.shape[0],X.shape[1]\n",
    "    b = np.ones((N,1))\n",
    "    X = np.hstack((b,X))\n",
    "    X_T=X.T\n",
    "    k = np.identity(X.T.shape[0], dtype = float)\n",
    "    k[0][0] = 0\n",
    "    XtX=np.matmul(X_T, X) + λ * k \n",
    "    inverseXtX =np.linalg.inv(XtX)\n",
    "    temp = np.matmul(inverseXtX,X_T)\n",
    "    theta = np.matmul(temp,y)\n",
    "    return theta"
   ]
  },
  {
   "cell_type": "code",
   "execution_count": 10,
   "metadata": {},
   "outputs": [
    {
     "name": "stdout",
     "output_type": "stream",
     "text": [
      "[1.0961538461538463, 0.1923076923076924, 0.3846153846153846]\n",
      "[1.09615385 0.19230769 0.38461538]\n"
     ]
    }
   ],
   "source": [
    "x = np.array([[1,2],[2,4],[3,6],[4,8]])\n",
    "y = np.array([2,3,4,5])\n",
    "rr = Ridge(alpha = 1)\n",
    "rr.fit(x,y)\n",
    "thetas_rr = [rr.intercept_] + list(rr.coef_)\n",
    "print (thetas_rr)\n",
    "thetas_NE = normalEquationRidgeRegression(x,y,1)\n",
    "print (thetas_NE)"
   ]
  }
 ],
 "metadata": {
  "kernelspec": {
   "display_name": "Python 3",
   "language": "python",
   "name": "python3"
  },
  "language_info": {
   "codemirror_mode": {
    "name": "ipython",
    "version": 3
   },
   "file_extension": ".py",
   "mimetype": "text/x-python",
   "name": "python",
   "nbconvert_exporter": "python",
   "pygments_lexer": "ipython3",
   "version": "3.7.1"
  }
 },
 "nbformat": 4,
 "nbformat_minor": 2
}
