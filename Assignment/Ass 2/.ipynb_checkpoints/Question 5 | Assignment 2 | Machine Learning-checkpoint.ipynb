{
 "cells": [
  {
   "cell_type": "code",
   "execution_count": 83,
   "metadata": {},
   "outputs": [
    {
     "data": {
      "image/png": "[encoded data removed]",
      "text/plain": [
       "<Figure size 432x288 with 1 Axes>"
      ]
     },
     "metadata": {
      "needs_background": "light"
     },
     "output_type": "display_data"
    }
   ],
   "source": [
    "import matplotlib.pyplot as plt\n",
    "randomm = 101 \n",
    "\n",
    "def f():\n",
    "   p = 1140671485\n",
    "   q = 128201163\n",
    "   r = 2**24\n",
    "   global randomm\n",
    "   randomm = (p*randomm + q) % r\n",
    "   return randomm\n",
    "\n",
    "rh = []\n",
    "for i in range(1000):\n",
    "   r= f()\n",
    "   rh.append(r%100)\n",
    "    \n",
    "\n",
    "noLabel = {}\n",
    "for record in rh :\n",
    "    if record not in noLabel:\n",
    "        noLabel [record] = 1\n",
    "    else:\n",
    "        noLabel [record] = 1 + noLabel [record]\n",
    "    \n",
    "lists = sorted(noLabel.items())\n",
    "\n",
    "x, y = zip(*lists)\n",
    "\n",
    "\n",
    "plt.scatter(x, y)\n",
    "plt.show()"
   ]
  }
 ],
 "metadata": {
  "kernelspec": {
   "display_name": "Python 3",
   "language": "python",
   "name": "python3"
  },
  "language_info": {
   "codemirror_mode": {
    "name": "ipython",
    "version": 3
   },
   "file_extension": ".py",
   "mimetype": "text/x-python",
   "name": "python",
   "nbconvert_exporter": "python",
   "pygments_lexer": "ipython3",
   "version": "3.7.1"
  }
 },
 "nbformat": 4,
 "nbformat_minor": 2
}
